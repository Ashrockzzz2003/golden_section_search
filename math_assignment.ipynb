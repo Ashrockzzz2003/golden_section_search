{
  "nbformat": 4,
  "nbformat_minor": 0,
  "metadata": {
    "colab": {
      "provenance": [],
      "authorship_tag": "ABX9TyMYw5kgRz6C2MURrKx9xYSt",
      "include_colab_link": true
    },
    "kernelspec": {
      "name": "python3",
      "display_name": "Python 3"
    },
    "language_info": {
      "name": "python"
    }
  },
  "cells": [
    {
      "cell_type": "markdown",
      "metadata": {
        "id": "view-in-github",
        "colab_type": "text"
      },
      "source": [
        "<a href=\"https://colab.research.google.com/github/Ashrockzzz2003/golden_section_search/blob/main/math_assignment.ipynb\" target=\"_parent\"><img src=\"https://colab.research.google.com/assets/colab-badge.svg\" alt=\"Open In Colab\"/></a>"
      ]
    },
    {
      "cell_type": "markdown",
      "source": [
        "# Golden Section Search\n",
        "\n",
        "`CB.EN.U4CSE21008 | Ashwin Narayanan S`\n",
        "\n",
        "[https://colab.research.google.com/drive/1XdMUKKLGsKYbpXfiRMtTcz6pPTVmNKKB?usp=sharing](https://colab.research.google.com/drive/1XdMUKKLGsKYbpXfiRMtTcz6pPTVmNKKB?usp=sharing)"
      ],
      "metadata": {
        "id": "1gzkZf0e388m"
      }
    },
    {
      "cell_type": "code",
      "execution_count": null,
      "metadata": {
        "colab": {
          "base_uri": "https://localhost:8080/"
        },
        "id": "VtWmy4gC34VL",
        "outputId": "19c0eff6-8059-4f58-e6db-826ec0a646f9"
      },
      "outputs": [
        {
          "output_type": "stream",
          "name": "stdout",
          "text": [
            "Enter a function in terms of x: (x**4) - (14*(x**3)) + (60*(x**2)) - (70*x)\n",
            "Enter the lower bound: 0\n",
            "Enter the upper bound: 2\n",
            "\n",
            "i\taw\t\tbw\t\tw1\t\tw2\t\tg(w1)\t\tg(w2)\n",
            "1\t0.000000\t1.236068\t0.472136\t0.763932\t-21.098514\t-24.360680\n",
            "2\t0.472136\t1.236068\t0.763932\t0.944272\t-24.360680\t-23.592462\n",
            "3\t0.472136\t0.944272\t0.652476\t0.763932\t-23.837435\t-24.360680\n",
            "4\t0.652476\t0.944272\t0.763932\t0.832816\t-24.360680\t-24.287887\n",
            "5\t0.652476\t0.832816\t0.721360\t0.763932\t-24.257948\t-24.360680\n",
            "6\t0.721360\t0.832816\t0.763932\t0.790243\t-24.360680\t-24.366907\n",
            "7\t0.763932\t0.832816\t0.790243\t0.806504\t-24.366907\t-24.349526\n",
            "8\t0.763932\t0.806504\t0.780193\t0.790243\t-24.369587\t-24.366907\n",
            "9\t0.763932\t0.790243\t0.773982\t0.780193\t-24.368128\t-24.369587\n",
            "10\t0.773982\t0.790243\t0.780193\t0.784032\t-24.369587\t-24.369296\n",
            "11\t0.773982\t0.784032\t0.777821\t0.780193\t-24.369312\t-24.369587\n",
            "12\t0.777821\t0.784032\t0.780193\t0.781660\t-24.369587\t-24.369583\n",
            "13\t0.777821\t0.781660\t0.779287\t0.780193\t-24.369523\t-24.369587\n",
            "14\t0.779287\t0.781660\t0.780193\t0.780753\t-24.369587\t-24.369601\n",
            "15\t0.780193\t0.781660\t0.780753\t0.781099\t-24.369601\t-24.369600\n",
            "16\t0.780193\t0.781099\t0.780539\t0.780753\t-24.369598\t-24.369601\n",
            "17\t0.780539\t0.781099\t0.780753\t0.780886\t-24.369601\t-24.369602\n",
            "18\t0.780753\t0.781099\t0.780886\t0.780967\t-24.369602\t-24.369601\n",
            "\n",
            "Final Region: a = 0.780753, b = 0.781099\n",
            "Minimum point:  0.780926\n",
            "f(Minimum point):  -24.369602\n"
          ]
        }
      ],
      "source": [
        "import math\n",
        "from sympy import *\n",
        "def golden_section_search(f, a, b, tol):\n",
        "    golden_ratio = (math.sqrt(5) - 1) / 2 # Find Golden Ratio\n",
        "    c = b - (b - a) * golden_ratio # aw\n",
        "    d = a + (b - a) * golden_ratio # bw\n",
        "    i = 0\n",
        "    print(\"i\\taw\\t\\tbw\\t\\tw1\\t\\tw2\\t\\tg(w1)\\t\\tg(w2)\")\n",
        "    while abs(c - d) > tol:\n",
        "        # Region Elimination\n",
        "        if f(c) < f(d):\n",
        "            b = d\n",
        "        else:\n",
        "            a = c\n",
        "        c = b - (b - a) * golden_ratio # w1\n",
        "        d = a + (b - a) * golden_ratio # w2\n",
        "        i += 1\n",
        "        print(f\"{i}\\t{a:4f}\\t{b:4f}\\t{c:4f}\\t{d:4f}\\t{f(c):4f}\\t{f(d):4f}\")\n",
        "        \n",
        "    return [a, b, (b + a) / 2]\n",
        "\n",
        "x = Symbol('x')\n",
        "f = parse_expr(input(\"Enter a function in terms of x: \"))\n",
        "f = lambdify(x, f)\n",
        "z = float(input(\"Enter the lower bound: \"))\n",
        "y = float(input(\"Enter the upper bound: \"))\n",
        "print()\n",
        "out = golden_section_search(f, z, y, 10**-4)\n",
        "\n",
        "print()\n",
        "print(f\"Final Region: a = {out[0]:4f}, b = {out[1]:4f}\")\n",
        "print(\"Minimum point: \", f\"{out[2]:4f}\")\n",
        "print(\"f(Minimum point): \", f\"{f(out[2]):4f}\")"
      ]
    }
  ]
}